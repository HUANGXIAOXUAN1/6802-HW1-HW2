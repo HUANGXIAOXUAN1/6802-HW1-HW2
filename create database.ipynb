{
 "cells": [
  {
   "cell_type": "code",
   "execution_count": 1,
   "id": "d4406f5b-50d4-483b-9721-effbcaf6289f",
   "metadata": {},
   "outputs": [],
   "source": [
    "import sqlite3"
   ]
  },
  {
   "cell_type": "code",
   "execution_count": 2,
   "id": "168c740d-e4fc-4fe0-888c-744e3461a6a4",
   "metadata": {},
   "outputs": [],
   "source": [
    "import datetime"
   ]
  },
  {
   "cell_type": "code",
   "execution_count": 3,
   "id": "28b8bab2-2515-4804-af72-f89f73a4c8a1",
   "metadata": {},
   "outputs": [],
   "source": [
    "conn = sqlite3.connect(\"log.db\")"
   ]
  },
  {
   "cell_type": "code",
   "execution_count": 4,
   "id": "68144ac0-24cd-439b-b797-ed7b24f7b5e2",
   "metadata": {},
   "outputs": [
    {
     "data": {
      "text/plain": [
       "<sqlite3.Cursor at 0x7f7c602a1740>"
      ]
     },
     "execution_count": 4,
     "metadata": {},
     "output_type": "execute_result"
    }
   ],
   "source": [
    "conn.execute(\"create table employee (name text, timestamp timestamp)\")"
   ]
  },
  {
   "cell_type": "code",
   "execution_count": 5,
   "id": "85c5e7ff-00ea-422c-a849-f7fb2da590a1",
   "metadata": {},
   "outputs": [],
   "source": [
    "conn.close()"
   ]
  },
  {
   "cell_type": "code",
   "execution_count": 6,
   "id": "c83da14f-0704-4b73-98ff-d1d3c2474fba",
   "metadata": {},
   "outputs": [],
   "source": [
    "conn = sqlite3.connect(\"log.db\")"
   ]
  },
  {
   "cell_type": "code",
   "execution_count": 7,
   "id": "fe2356a4-d6c1-40b0-b501-dfa6ac577446",
   "metadata": {},
   "outputs": [],
   "source": [
    "c = conn.execute(\"select * from employee\")"
   ]
  },
  {
   "cell_type": "code",
   "execution_count": 8,
   "id": "078b8070-0e29-4c4f-b177-ed2ccd30aa90",
   "metadata": {},
   "outputs": [
    {
     "data": {
      "text/plain": [
       "(('name', None, None, None, None, None, None),\n",
       " ('timestamp', None, None, None, None, None, None))"
      ]
     },
     "execution_count": 8,
     "metadata": {},
     "output_type": "execute_result"
    }
   ],
   "source": [
    "c.description"
   ]
  },
  {
   "cell_type": "code",
   "execution_count": 9,
   "id": "b31ac236-70cd-4e01-9be4-954e2fdbf56e",
   "metadata": {},
   "outputs": [],
   "source": [
    "c.close()"
   ]
  },
  {
   "cell_type": "code",
   "execution_count": 10,
   "id": "4fc9fe97-aa9c-47a6-8149-b4e985846aba",
   "metadata": {},
   "outputs": [],
   "source": [
    "conn.close()"
   ]
  },
  {
   "cell_type": "code",
   "execution_count": 11,
   "id": "a1dd788e-fa20-4c88-9d05-71659893485e",
   "metadata": {},
   "outputs": [],
   "source": [
    "conn = sqlite3.connect(\"log.db\")"
   ]
  },
  {
   "cell_type": "code",
   "execution_count": 12,
   "id": "c757092c-230a-4346-a39e-0f3c69130c9c",
   "metadata": {},
   "outputs": [],
   "source": [
    "c = conn.cursor()"
   ]
  },
  {
   "cell_type": "code",
   "execution_count": 13,
   "id": "9edf87d3-f07d-4bd9-91ee-6abd35451a46",
   "metadata": {},
   "outputs": [
    {
     "name": "stdout",
     "output_type": "stream",
     "text": [
      "aa\n",
      "2024-03-18 20:02:55.047169\n"
     ]
    }
   ],
   "source": [
    "c = conn.cursor()\n",
    "name = \"aa\"\n",
    "timestamp = datetime.datetime.now()\n",
    "print(name)\n",
    "print(timestamp)\n",
    "c.execute(\"insert into employee (name,timestamp) values(?,?)\",(name,timestamp))\n",
    "conn.commit()"
   ]
  },
  {
   "cell_type": "code",
   "execution_count": 14,
   "id": "e91d25da-04c6-4289-9da3-ca26d1fedf2b",
   "metadata": {},
   "outputs": [],
   "source": [
    "c.close()\n",
    "conn.close()"
   ]
  },
  {
   "cell_type": "code",
   "execution_count": 15,
   "id": "7753bc84-78d7-4b33-ac0b-6ac4fa6feb26",
   "metadata": {},
   "outputs": [],
   "source": [
    "conn = sqlite3.connect(\"log.db\")\n",
    "c = conn.execute(\"select * from employee\")"
   ]
  },
  {
   "cell_type": "code",
   "execution_count": 16,
   "id": "b1601bc8-2faa-47b2-987b-ae8693778381",
   "metadata": {},
   "outputs": [
    {
     "name": "stdout",
     "output_type": "stream",
     "text": [
      "('aa', '2024-03-18 20:02:55.047169')\n"
     ]
    }
   ],
   "source": [
    "row=\"\"\n",
    "for row in c:\n",
    "    print(row)"
   ]
  },
  {
   "cell_type": "code",
   "execution_count": 17,
   "id": "e38c9170-d459-41c8-aa0d-f27adc9ef01d",
   "metadata": {},
   "outputs": [],
   "source": [
    "c.close()\n",
    "conn.close()"
   ]
  },
  {
   "cell_type": "code",
   "execution_count": null,
   "id": "ad8b80b8-de54-4e5e-940c-8695775e654d",
   "metadata": {},
   "outputs": [],
   "source": []
  }
 ],
 "metadata": {
  "kernelspec": {
   "display_name": "PyCharm (pythonProject)",
   "language": "python",
   "name": "pycharm-d9136be5"
  },
  "language_info": {
   "codemirror_mode": {
    "name": "ipython",
    "version": 3
   },
   "file_extension": ".py",
   "mimetype": "text/x-python",
   "name": "python",
   "nbconvert_exporter": "python",
   "pygments_lexer": "ipython3",
   "version": "3.10.9"
  }
 },
 "nbformat": 4,
 "nbformat_minor": 5
}
